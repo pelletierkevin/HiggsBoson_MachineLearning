{
 "cells": [
  {
   "cell_type": "code",
   "execution_count": 1,
   "metadata": {
    "scrolled": false
   },
   "outputs": [],
   "source": [
    "import sys\n",
    "sys.path.append(\"../\") # go to parent dir\n",
    "\n",
    "import matplotlib.pyplot as plt\n",
    "import numpy as np\n",
    "from toolbox.proj1_helpers import load_csv_data, predict_labels, create_csv_submission\n",
    "from toolbox.implement import ridge_regression\n",
    "from toolbox.cross_validation import standardize\n",
    "from toolbox.build_polynomial import build_poly\n",
    "\n",
    "%load_ext autoreload\n",
    "%autoreload 2"
   ]
  },
  {
   "cell_type": "code",
   "execution_count": 2,
   "metadata": {},
   "outputs": [],
   "source": [
    "DATA_TRAIN_PATH = '../data/train.csv'\n",
    "y, tX, ids = load_csv_data(DATA_TRAIN_PATH)"
   ]
  },
  {
   "cell_type": "code",
   "execution_count": 3,
   "metadata": {},
   "outputs": [],
   "source": [
    "ind_DER_mass_MMC = 0\n",
    "ind_DER_mass_transverse_met_lep = 1\n",
    "ind_DER_mass_vis = 2\n",
    "ind_DER_pt_h   = 3\n",
    "ind_DER_deltaeta_jet_jet = 4\n",
    "ind_DER_mass_jet_jet = 5\n",
    "ind_DER_prodeta_jet_jet = 6\n",
    "ind_DER_deltar_tau_lep = 7\n",
    "ind_DER_pt_tot   = 8\n",
    "ind_DER_sum_pt   = 9\n",
    "ind_DER_pt_ratio_lep_tau   = 10\n",
    "ind_DER_met_phi_centrality   = 11\n",
    "ind_DER_lep_eta_centrality   = 12\n",
    "ind_PRI_tau_pt   = 13\n",
    "ind_PRI_tau_eta   = 14\n",
    "ind_PRI_tau_phi   = 15\n",
    "ind_PRI_lep_pt   = 16\n",
    "ind_PRI_lep_eta = 17\n",
    "ind_PRI_lep_phi = 18\n",
    "ind_PRI_met   = 19\n",
    "ind_PRI_met_phi   = 20\n",
    "ind_PRI_met_sumet   = 21\n",
    "ind_PRI_jet_num   = 22\n",
    "ind_PRI_jet_leading_pt   = 23\n",
    "ind_PRI_jet_leading_eta   = 24\n",
    "ind_PRI_jet_leading_phi   = 25\n",
    "ind_PRI_jet_subleading_pt   = 26\n",
    "ind_PRI_jet_subleading_eta   = 27\n",
    "ind_PRI_jet_subleading_phi   = 28\n",
    "ind_PRI_jet_all_pt   = 29\n",
    "\n"
   ]
  },
  {
   "cell_type": "code",
   "execution_count": 4,
   "metadata": {},
   "outputs": [
    {
     "data": {
      "text/plain": [
       "7"
      ]
     },
     "execution_count": 4,
     "metadata": {},
     "output_type": "execute_result"
    }
   ],
   "source": [
    "ind_DER_deltar_tau_lep"
   ]
  },
  {
   "cell_type": "markdown",
   "metadata": {},
   "source": [
    "Step 1 : Correct the values for different jet_num = 0,1,2-3 // All the values in DER_mass_MMC = -999.000\n",
    "We correct them by extracting the correct values in this column (which is DER_mass_MMC)\n",
    "And train a model to predict the value of this column using the values from the other parameters\n",
    "\n",
    "DER_mass_MMC  : 7562  nb -999.000 values\n",
    "\n",
    "Task 1 from this step : Extract and store in proper way, in order to have a \n",
    "- 'y' vector containing the right values of DER_mass_MMC\n",
    "- 'x' matrix containing the others columns from the right values of DER_mass_MMC (associated to y)\n",
    "- 'wrongX_topredict' containing the parameters from the wrong values of DER_mass_MMC \n",
    "\n",
    "We will then train the model using y and x, and then compute this trained model with wrongX_topredict in order to have some approx. correct values and replace all the -999.000\n",
    "\n",
    "\n",
    "We need to remove :\n",
    "- DER_deltaeta_jet_jet : 77544/77544 wrong \n",
    "- DER_mass_jet_jet  : 77544/77544\n",
    "- DER_prodeta_jet_jet  : 77544/77544\n",
    "- DER_lep_eta_centrality  : 77544/77544 wrong \n",
    "\n",
    "- PRI_jet_subleading_pt  : 77544/77544 wrong \n",
    "- PRI_jet_subleading_eta  : 77544/77544 wrong \n",
    "- PRI_jet_subleading_phi  : 77544/77544 wrong "
   ]
  },
  {
   "cell_type": "code",
   "execution_count": 5,
   "metadata": {
    "scrolled": true
   },
   "outputs": [],
   "source": [
    "# Extract indices from dataset only jet_num = 0 // ravel() is used to transform into a single vector the indices\n",
    "ind_jet0 = np.argwhere((tX[:,ind_PRI_jet_num] == 0)).ravel()\n",
    "# Extract indices from dataset only jet_num = 3 // ravel() is used to transform into a single vector the indices\n",
    "ind_jet1 = np.argwhere((tX[:,ind_PRI_jet_num] == 1)).ravel()\n",
    "# Extract indices from dataset only jet_num = 3 or 2// ravel() is used to transform into a single vector the indices\n",
    "ind_jet2 = np.argwhere((tX[:,ind_PRI_jet_num] == 2) | (tX[:,ind_PRI_jet_num] == 3)).ravel()\n",
    "\n",
    "# Create new dataset extracting only jet_num = 0\n",
    "datajet0 = tX[ind_jet0]\n",
    "colToDelete_jet0 = [ind_PRI_jet_num,ind_DER_deltaeta_jet_jet, ind_DER_mass_jet_jet, ind_DER_prodeta_jet_jet, ind_DER_lep_eta_centrality, ind_PRI_jet_subleading_pt, ind_PRI_jet_subleading_eta, ind_PRI_jet_subleading_phi, ind_PRI_jet_leading_pt, ind_PRI_jet_leading_eta, ind_PRI_jet_leading_phi, ind_PRI_jet_all_pt]     \n",
    "datajet0 = np.delete(datajet0, colToDelete_jet0 , axis=1)\n",
    "# Create new dataset extracting only jet_num = 1\n",
    "datajet1 = tX[ind_jet1]\n",
    "colToDelete_jet1 = [ind_PRI_jet_num,ind_DER_deltaeta_jet_jet, ind_DER_mass_jet_jet, ind_DER_prodeta_jet_jet, ind_DER_lep_eta_centrality, ind_PRI_jet_subleading_pt, ind_PRI_jet_subleading_eta, ind_PRI_jet_subleading_phi, ind_PRI_jet_all_pt ]     \n",
    "datajet1 = np.delete(datajet1, colToDelete_jet1 , axis=1)\n",
    "# Create new dataset extracting only jet_num = 2 or 3\n",
    "datajet2 = tX[ind_jet2]\n",
    "colToDelete_jet2 = [ind_PRI_jet_num]    \n",
    "datajet2 = np.delete(datajet2, colToDelete_jet2 , axis=1)\n",
    "\n"
   ]
  },
  {
   "cell_type": "code",
   "execution_count": 6,
   "metadata": {},
   "outputs": [],
   "source": [
    "# Now we want to extract and correct -999.000 values from DER_mass_MMC\n",
    "\n",
    "# Extract indices where the wrong value of DER_mass_MMC == -999.000 // We want to correct/predict these values\n",
    "ind_wrongjet0 = np.argwhere(datajet0[:,ind_DER_mass_MMC] == -999.000).ravel()\n",
    "ind_wrongjet1 = np.argwhere(datajet1[:,ind_DER_mass_MMC] == -999.000).ravel()\n",
    "ind_wrongjet2 = np.argwhere(datajet2[:,ind_DER_mass_MMC] == -999.000).ravel()\n",
    "\n",
    "\n",
    "# Extract indices where the values of DER_mass_MMC are correct // We will train from these datas\n",
    "ind_rightjet0 = np.argwhere(datajet0[:,ind_DER_mass_MMC] != -999.000).ravel()\n",
    "ind_rightjet1 = np.argwhere(datajet1[:,ind_DER_mass_MMC] != -999.000).ravel()\n",
    "ind_rightjet2 = np.argwhere(datajet2[:,ind_DER_mass_MMC] != -999.000).ravel()\n",
    "\n",
    "# Extract data DER_mass_MMC only wrong values\n",
    "wrongjet0 = datajet0[ind_wrongjet0]\n",
    "wrongjet1 = datajet1[ind_wrongjet1]\n",
    "wrongjet2 = datajet2[ind_wrongjet2]\n",
    "\n",
    "\n",
    "#Create the data that will compute the predicted y (DER_mass_MMC)\n",
    "tx_wrongjet0 = np.delete(wrongjet0, ind_DER_mass_MMC, axis=1)\n",
    "tx_wrongjet1 = np.delete(wrongjet1, ind_DER_mass_MMC, axis=1)\n",
    "tx_wrongjet2 = np.delete(wrongjet2, ind_DER_mass_MMC, axis=1)\n",
    "\n",
    "\n",
    "# Extract data DER_mass_MMC only correct values\n",
    "rightjet0 = datajet0[ind_rightjet0]\n",
    "rightjet1 = datajet1[ind_rightjet1]\n",
    "rightjet2 = datajet2[ind_rightjet2]\n",
    "\n",
    "\n",
    "#Now we'll extract the DER_mass_MMC column and turn it into a 'y' vector sample,\n",
    "# The others columns will be the 'X' data samples\n",
    "# Jet = 0\n",
    "y_rightjet0 = rightjet0[:, ind_DER_mass_MMC]\n",
    "tx_rightjet0 = np.delete(rightjet0, ind_DER_mass_MMC, axis=1)\n",
    "# Jet = 1\n",
    "y_rightjet1 = rightjet1[:, ind_DER_mass_MMC]\n",
    "tx_rightjet1 = np.delete(rightjet1, ind_DER_mass_MMC, axis=1)\n",
    "#JEt = 2,3\n",
    "y_rightjet2 = rightjet2[:, ind_DER_mass_MMC]\n",
    "tx_rightjet2 = np.delete(rightjet2, ind_DER_mass_MMC, axis=1)"
   ]
  },
  {
   "cell_type": "markdown",
   "metadata": {},
   "source": [
    "__Train Model__\n",
    ">Jet Num = 0"
   ]
  },
  {
   "cell_type": "code",
   "execution_count": 7,
   "metadata": {},
   "outputs": [],
   "source": [
    "# Process X of jet0 (DET_mass_MMC)\n",
    "tx_rightjet0_poly = build_poly(tx_rightjet0, 2, False)\n",
    "tx_rightjet0_poly,mean_txjet0,std_txjet0 = standardize(tx_rightjet0_poly)\n",
    "tx_rightjet0_poly[:,0] = np.ones(len(tx_rightjet0_poly)) ####### ADD to FUNCTION\n",
    "\n",
    "# Process Y of jet0 (DET_mass_MMC)\n",
    "stand_y_rightjet0,mean_yjet0,std_yjet0 = standardize(y_rightjet0)\n",
    "\n",
    "# Train/Compute the Model for Jet = 0\n",
    "loss_jet0, w_jet0 = ridge_regression(stand_y_rightjet0, tx_rightjet0_poly, 0.00001)\n",
    "\n",
    "y_pred_jet0 = tx_rightjet0_poly.dot(w_jet0)"
   ]
  },
  {
   "cell_type": "markdown",
   "metadata": {},
   "source": [
    ">Jet Num = 1"
   ]
  },
  {
   "cell_type": "code",
   "execution_count": 8,
   "metadata": {
    "scrolled": false
   },
   "outputs": [],
   "source": [
    "# Process Y of jet1 (DET_mass_MMC)\n",
    "tx_rightjet1_poly = build_poly(tx_rightjet1, 1, False)\n",
    "tx_rightjet1_poly,mean_txjet1,std_txjet1 = standardize(tx_rightjet1_poly)\n",
    "tx_rightjet1_poly[:,0] = np.ones(len(tx_rightjet1_poly)) ####### ADD to FUNCTION\n",
    "\n",
    "# Process Y of jet1 (DET_mass_MMC)\n",
    "stand_y_rightjet1,mean_yjet1,std_yjet1 = standardize(y_rightjet1)\n",
    "\n",
    "# Train/Compute the Model for Jet = 1\n",
    "loss_jet0, w_jet1 = ridge_regression(stand_y_rightjet1, tx_rightjet1_poly, 0.00001)\n",
    "\n",
    "y_pred_jet1 = tx_rightjet1_poly.dot(w_jet1)"
   ]
  },
  {
   "cell_type": "markdown",
   "metadata": {},
   "source": [
    ">Jet Num = 2-3"
   ]
  },
  {
   "cell_type": "code",
   "execution_count": 9,
   "metadata": {},
   "outputs": [],
   "source": [
    "# Process Y of jet2-3 (DET_mass_MMC)\n",
    "tx_rightjet2_poly = build_poly(tx_rightjet2, 1, False)\n",
    "tx_rightjet2_poly,mean_txjet23,std_txjet23 = standardize(tx_rightjet2_poly)\n",
    "tx_rightjet2_poly[:,0] = np.ones(len(tx_rightjet2_poly)) ####### ADD to FUNCTION\n",
    "\n",
    "# Process Y of jet2-3 (DET_mass_MMC)\n",
    "testy_rightjet2,mean_yjet2,std_yjet2 = standardize(y_rightjet2)\n",
    "\n",
    "# Train/Compute the Model for Jet = 2-3\n",
    "loss_jet2, w_jet2 = ridge_regression(testy_rightjet2, tx_rightjet2_poly, 0.00001)\n",
    "\n",
    "y_pred_jet2 = tx_rightjet2_poly.dot(w_jet2)"
   ]
  },
  {
   "cell_type": "markdown",
   "metadata": {},
   "source": [
    "The model is trained so we will now compute/predict the values for the wrong ones."
   ]
  },
  {
   "cell_type": "code",
   "execution_count": 10,
   "metadata": {},
   "outputs": [],
   "source": [
    "tx_wrongjet0_poly = build_poly(tx_wrongjet0, 2, False)\n",
    "tx_wrongjet0_poly,_,_ = standardize(tx_wrongjet0_poly,mean_txjet0,std_txjet0)\n",
    "tx_wrongjet0_poly[:,0] = np.ones(len(tx_wrongjet0_poly)) ####### ADD to FUNCTION\n",
    "\n",
    "y_predMASS_jet0 = tx_wrongjet0_poly.dot(w_jet0)\n",
    "y_predMASS_jet0 = (y_predMASS_jet0*std_yjet0) + mean_yjet0"
   ]
  },
  {
   "cell_type": "code",
   "execution_count": 11,
   "metadata": {
    "scrolled": false
   },
   "outputs": [],
   "source": [
    "tx_wrongjet1_poly = build_poly(tx_wrongjet1, 1, False)\n",
    "tx_wrongjet1_poly,_,_ = standardize(tx_wrongjet1_poly, mean_txjet1, std_txjet1)\n",
    "tx_wrongjet1_poly[:,0] = np.ones(len(tx_wrongjet1_poly)) ####### ADD to FUNCTION\n",
    "\n",
    "y_predMASS_jet1 = tx_wrongjet1_poly.dot(w_jet1)\n",
    "y_predMASS_jet1 = (y_predMASS_jet1*std_yjet1) + mean_yjet1"
   ]
  },
  {
   "cell_type": "code",
   "execution_count": 12,
   "metadata": {},
   "outputs": [],
   "source": [
    "tx_wrongjet2_poly = build_poly(tx_wrongjet2, 1, False)\n",
    "tx_wrongjet2_poly,_,_ = standardize(tx_wrongjet2_poly,mean_txjet23,std_txjet23)\n",
    "tx_wrongjet2_poly[:,0] = np.ones(len(tx_wrongjet2_poly)) ####### ADD to FUNCTION\n",
    "\n",
    "y_predMASS_jet2 = tx_wrongjet2_poly.dot(w_jet2)\n",
    "\n",
    "y_predMASS_jet2 = (y_predMASS_jet2*std_yjet2) + mean_yjet2"
   ]
  },
  {
   "cell_type": "markdown",
   "metadata": {},
   "source": [
    "We will now correct the initial dataset."
   ]
  },
  {
   "cell_type": "code",
   "execution_count": 13,
   "metadata": {},
   "outputs": [],
   "source": [
    "wrongjet0[:, ind_DER_mass_MMC] = y_predMASS_jet0\n",
    "datajet0[ind_wrongjet0] = wrongjet0\n",
    "\n",
    "wrongjet1[:, ind_DER_mass_MMC] = y_predMASS_jet1\n",
    "datajet1[ind_wrongjet1] = wrongjet1\n",
    "\n",
    "wrongjet2[:, ind_DER_mass_MMC] = y_predMASS_jet2\n",
    "datajet2[ind_wrongjet2] = wrongjet2"
   ]
  },
  {
   "cell_type": "code",
   "execution_count": 14,
   "metadata": {},
   "outputs": [],
   "source": [
    "y_jet0 = y[ind_jet0]\n",
    "y_jet1 = y[ind_jet1]\n",
    "y_jet2 = y[ind_jet2]"
   ]
  },
  {
   "cell_type": "code",
   "execution_count": 15,
   "metadata": {
    "scrolled": true
   },
   "outputs": [
    {
     "name": "stdout",
     "output_type": "stream",
     "text": [
      "0.2411051642688248\n",
      "0.31767693085614707\n",
      "0.30156530082652905\n"
     ]
    }
   ],
   "source": [
    "datajet0_poly = build_poly(datajet0, 7, True)\n",
    "datajet0_poly,mean_txj0,std_txj0 = standardize(datajet0_poly)\n",
    "datajet0_poly[:,0] = np.ones(len(datajet0_poly)) ####### ADD to FUNCTION\n",
    "\n",
    "datajet1_poly = build_poly(datajet1, 8, True)\n",
    "datajet1_poly,mean_txj1,std_txj1 = standardize(datajet1_poly)\n",
    "datajet1_poly[:,0] = np.ones(len(datajet1_poly)) ####### ADD to FUNCTION\n",
    "\n",
    "datajet2_poly = build_poly(datajet2, 8, True)\n",
    "datajet2_poly,mean_txj2,std_txj2 = standardize(datajet2_poly)\n",
    "datajet2_poly[:,0] = np.ones(len(datajet2_poly)) ####### ADD to FUNCTION\n",
    "\n",
    "loss_j0, w_pred_jet0 = ridge_regression(y_jet0, datajet0_poly, 0.00001)\n",
    "print(loss_j0)\n",
    "\n",
    "loss_j1, w_pred_jet1 = ridge_regression(y_jet1, datajet1_poly, 0.00001)\n",
    "print(loss_j1)\n",
    "\n",
    "loss_j2, w_pred_jet2 = ridge_regression(y_jet2, datajet2_poly, 0.00001)\n",
    "print(loss_j2)"
   ]
  },
  {
   "cell_type": "markdown",
   "metadata": {},
   "source": [
    "__Test the models on training set__"
   ]
  },
  {
   "cell_type": "code",
   "execution_count": 16,
   "metadata": {},
   "outputs": [
    {
     "name": "stdout",
     "output_type": "stream",
     "text": [
      "Final result : 0.8335051494800476\n"
     ]
    }
   ],
   "source": [
    "y_predj0 = predict_labels(w_pred_jet0, datajet0_poly)\n",
    "\n",
    "result = np.sum(y_predj0 == y_jet0)\n",
    "\n",
    "print(\"Final result : \" + str(result/y_jet0.shape[0]))"
   ]
  },
  {
   "cell_type": "code",
   "execution_count": 17,
   "metadata": {},
   "outputs": [
    {
     "name": "stdout",
     "output_type": "stream",
     "text": [
      "Final result : 0.7798153306509853\n"
     ]
    }
   ],
   "source": [
    "y_predj1 = predict_labels(w_pred_jet1, datajet1_poly)\n",
    "\n",
    "result = np.sum(y_predj1 == y_jet1)\n",
    "\n",
    "print(\"Final result : \" + str(result/y_jet1.shape[0]))"
   ]
  },
  {
   "cell_type": "code",
   "execution_count": 18,
   "metadata": {},
   "outputs": [
    {
     "name": "stdout",
     "output_type": "stream",
     "text": [
      "Final result : 0.7998428518258136\n"
     ]
    }
   ],
   "source": [
    "y_predj2 = predict_labels(w_pred_jet2, datajet2_poly)\n",
    "\n",
    "result = np.sum(y_predj2 == y_jet2)\n",
    "\n",
    "print(\"Final result : \" + str(result/y_jet2.shape[0]))"
   ]
  },
  {
   "cell_type": "markdown",
   "metadata": {},
   "source": [
    "__----------------------- DATA CLEANED AND TRAINED ----------------------__"
   ]
  },
  {
   "cell_type": "markdown",
   "metadata": {},
   "source": [
    "__TEST DATA__"
   ]
  },
  {
   "cell_type": "code",
   "execution_count": 19,
   "metadata": {},
   "outputs": [],
   "source": [
    "DATA_TEST_PATH = '../data/test.csv'\n",
    "\n",
    "\n",
    "y_test, tX_test, ids_test = load_csv_data(DATA_TEST_PATH)\n"
   ]
  },
  {
   "cell_type": "code",
   "execution_count": 20,
   "metadata": {},
   "outputs": [
    {
     "data": {
      "text/plain": [
       "(568238, 30)"
      ]
     },
     "execution_count": 20,
     "metadata": {},
     "output_type": "execute_result"
    }
   ],
   "source": [
    "tX_test.shape"
   ]
  },
  {
   "cell_type": "code",
   "execution_count": 21,
   "metadata": {},
   "outputs": [],
   "source": [
    "def extract_jet_indices(tX, ind_PRI_jet_num):\n",
    "    # Extract indices from dataset only jet_num = 0 // ravel() is used to transform into a single vector the indices\n",
    "    ind_testjet0 = np.argwhere((tX[:,ind_PRI_jet_num] == 0)).ravel()\n",
    "    # Extract indices from dataset only jet_num = 3 // ravel() is used to transform into a single vector the indices\n",
    "    ind_testjet1 = np.argwhere((tX[:,ind_PRI_jet_num] == 1)).ravel()\n",
    "    # Extract indices from dataset only jet_num = 3 or 2// ravel() is used to transform into a single vector the indices\n",
    "    ind_testjet2 = np.argwhere((tX[:,ind_PRI_jet_num] == 2) | (tX[:,ind_PRI_jet_num] == 3)).ravel()\n",
    "    \n",
    "    return ind_testjet0, ind_testjet1, ind_testjet2"
   ]
  },
  {
   "cell_type": "markdown",
   "metadata": {},
   "source": [
    "We will extract data with -999.000 values from the data test set to correct them."
   ]
  },
  {
   "cell_type": "code",
   "execution_count": 22,
   "metadata": {},
   "outputs": [
    {
     "name": "stdout",
     "output_type": "stream",
     "text": [
      "(227458, 18)\n",
      "(175338, 21)\n",
      "(165442, 29)\n"
     ]
    }
   ],
   "source": [
    "# Extract indices from dataset only jet_num = 0 // ravel() is used to transform into a single vector the indices\n",
    "ind_testjet0,ind_testjet1,ind_testjet2 = extract_jet_indices(tX_test, ind_PRI_jet_num)\n",
    "\n",
    "# Create new dataset extracting only jet_num = 0\n",
    "datatest_jet0 = tX_test[ind_testjet0]\n",
    "colToDeltest_jet0 = [ind_PRI_jet_num,ind_DER_deltaeta_jet_jet, ind_DER_mass_jet_jet, ind_DER_prodeta_jet_jet, ind_DER_lep_eta_centrality, ind_PRI_jet_subleading_pt, ind_PRI_jet_subleading_eta, ind_PRI_jet_subleading_phi, ind_PRI_jet_leading_pt, ind_PRI_jet_leading_eta, ind_PRI_jet_leading_phi, ind_PRI_jet_all_pt]     \n",
    "datatest_jet0 = np.delete(datatest_jet0, colToDeltest_jet0 , axis=1)\n",
    "# Create new dataset extracting only jet_num = 1\n",
    "datatest_jet1 = tX_test[ind_testjet1]\n",
    "colToDeltest_jet1 = [ind_PRI_jet_num,ind_DER_deltaeta_jet_jet, ind_DER_mass_jet_jet, ind_DER_prodeta_jet_jet, ind_DER_lep_eta_centrality, ind_PRI_jet_subleading_pt, ind_PRI_jet_subleading_eta, ind_PRI_jet_subleading_phi, ind_PRI_jet_all_pt ]     \n",
    "datatest_jet1 = np.delete(datatest_jet1, colToDeltest_jet1 , axis=1)\n",
    "# Create new dataset extracting only jet_num = 2 or 3\n",
    "datatest_jet2 = tX_test[ind_testjet2]\n",
    "colToDeltest_jet2 = [ind_PRI_jet_num]    \n",
    "datatest_jet2 = np.delete(datatest_jet2, colToDeltest_jet2 , axis=1)\n",
    "\n",
    "print(datatest_jet0.shape)\n",
    "print(datatest_jet1.shape)\n",
    "print(datatest_jet2.shape)"
   ]
  },
  {
   "cell_type": "code",
   "execution_count": 23,
   "metadata": {},
   "outputs": [],
   "source": [
    "# Extract indices where the wrong value of DER_mass_MMC == -999.000 // We want to correct/predict these values\n",
    "indtest_wrongjet0 = np.argwhere(datatest_jet0[:,ind_DER_mass_MMC] == -999.000).ravel()\n",
    "indtest_wrongjet1 = np.argwhere(datatest_jet1[:,ind_DER_mass_MMC] == -999.000).ravel()\n",
    "indtest_wrongjet2 = np.argwhere(datatest_jet2[:,ind_DER_mass_MMC] == -999.000).ravel()\n",
    "\n",
    "# Extract data DER_mass_MMC only wrong values\n",
    "wrongtest_jet0 = datatest_jet0[indtest_wrongjet0]\n",
    "wrongtest_jet1 = datatest_jet1[indtest_wrongjet1]\n",
    "wrongtest_jet2 = datatest_jet2[indtest_wrongjet2]\n",
    "\n",
    "\n",
    "#Create the data that will compute the predicted y (DER_mass_MMC)\n",
    "txtest_wrongjet0 = np.delete(wrongtest_jet0, ind_DER_mass_MMC, axis=1)\n",
    "txtest_wrongjet1 = np.delete(wrongtest_jet1, ind_DER_mass_MMC, axis=1)\n",
    "txtest_wrongjet2 = np.delete(wrongtest_jet2, ind_DER_mass_MMC, axis=1)\n",
    "\n"
   ]
  },
  {
   "cell_type": "code",
   "execution_count": 24,
   "metadata": {},
   "outputs": [],
   "source": [
    "txtest_wrongjet0_poly = build_poly(txtest_wrongjet0, 2, False)\n",
    "txtest_wrongjet0_poly,_,_ = standardize(txtest_wrongjet0_poly,mean_txjet0,std_txjet0)\n",
    "txtest_wrongjet0_poly[:,0] = np.ones(len(txtest_wrongjet0_poly)) ####### ADD to FUNCTION\n",
    "\n",
    "MASSpred_test_jet0 = txtest_wrongjet0_poly.dot(w_jet0)\n",
    "MASSpred_test_jet0 = (MASSpred_test_jet0*std_yjet0) + mean_yjet0\n",
    "\n",
    "\n",
    "txtest_wrongjet1_poly = build_poly(txtest_wrongjet1, 1, False)\n",
    "txtest_wrongjet1_poly,_,_ = standardize(txtest_wrongjet1_poly, mean_txjet1, std_txjet1)\n",
    "txtest_wrongjet1_poly[:,0] = np.ones(len(txtest_wrongjet1_poly)) ####### ADD to FUNCTION\n",
    "\n",
    "MASSpred_test_jet1 = txtest_wrongjet1_poly.dot(w_jet1)\n",
    "MASSpred_test_jet1 = (MASSpred_test_jet1*std_yjet1) + mean_yjet1\n",
    "\n",
    "\n",
    "txtest_wrongjet2_poly = build_poly(txtest_wrongjet2, 1, False)\n",
    "txtest_wrongjet2_poly,_,_ = standardize(txtest_wrongjet2_poly, mean_txjet23, std_txjet23)\n",
    "txtest_wrongjet2_poly[:,0] = np.ones(len(txtest_wrongjet2_poly)) ####### ADD to FUNCTION\n",
    "\n",
    "MASSpred_test_jet2 = txtest_wrongjet2_poly.dot(w_jet2)\n",
    "MASSpred_test_jet2 = (MASSpred_test_jet2*std_yjet1) + mean_yjet2"
   ]
  },
  {
   "cell_type": "code",
   "execution_count": 25,
   "metadata": {},
   "outputs": [],
   "source": [
    "wrongtest_jet0[:, ind_DER_mass_MMC] = MASSpred_test_jet0\n",
    "datatest_jet0[indtest_wrongjet0] = wrongtest_jet0\n",
    "\n",
    "wrongtest_jet1[:, ind_DER_mass_MMC] = MASSpred_test_jet1\n",
    "datatest_jet1[indtest_wrongjet1] = wrongtest_jet1\n",
    "\n",
    "wrongtest_jet2[:, ind_DER_mass_MMC] = MASSpred_test_jet2\n",
    "datatest_jet2[indtest_wrongjet2] = wrongtest_jet2"
   ]
  },
  {
   "cell_type": "code",
   "execution_count": 26,
   "metadata": {
    "scrolled": false
   },
   "outputs": [],
   "source": [
    "datatestjet0_poly = build_poly(datatest_jet0, 7, True)\n",
    "datatestjet0_poly,_,_ = standardize(datatestjet0_poly,mean_txj0,std_txj0)\n",
    "datatestjet0_poly[:,0] = np.ones(len(datatestjet0_poly)) ####### ADD to FUNCTION\n",
    "\n",
    "datatestjet1_poly = build_poly(datatest_jet1, 8, True)\n",
    "datatestjet1_poly,_,_ = standardize(datatestjet1_poly,mean_txj1, std_txj1)\n",
    "datatestjet1_poly[:,0] = np.ones(len(datatestjet1_poly)) ####### ADD to FUNCTION\n",
    "\n",
    "datatestjet2_poly = build_poly(datatest_jet2, 8, True)\n",
    "datatestjet2_poly,_,_ = standardize(datatestjet2_poly, mean_txj2, std_txj2)\n",
    "datatestjet2_poly[:,0] = np.ones(len(datatestjet2_poly)) ####### ADD to FUNCTION\n",
    "\n",
    "ytest_predj0 = predict_labels(w_pred_jet0, datatestjet0_poly)\n",
    "\n",
    "ytest_predj1 = predict_labels(w_pred_jet1, datatestjet1_poly)\n",
    "\n",
    "ytest_predj2 = predict_labels(w_pred_jet2, datatestjet2_poly)\n",
    "\n"
   ]
  },
  {
   "cell_type": "code",
   "execution_count": 27,
   "metadata": {},
   "outputs": [],
   "source": [
    "y_result = np.ones(tX_test.shape[0])*2"
   ]
  },
  {
   "cell_type": "code",
   "execution_count": 28,
   "metadata": {},
   "outputs": [],
   "source": [
    "y_result[ind_testjet0] = ytest_predj0\n",
    "y_result[ind_testjet1] = ytest_predj1\n",
    "y_result[ind_testjet2] = ytest_predj2"
   ]
  },
  {
   "cell_type": "code",
   "execution_count": 29,
   "metadata": {},
   "outputs": [
    {
     "data": {
      "text/plain": [
       "array([-1., -1., -1., ...,  1., -1., -1.])"
      ]
     },
     "execution_count": 29,
     "metadata": {},
     "output_type": "execute_result"
    }
   ],
   "source": [
    "y_result"
   ]
  },
  {
   "cell_type": "code",
   "execution_count": 30,
   "metadata": {},
   "outputs": [],
   "source": [
    "create_csv_submission(ids_test, y_result, 'submission_y_predict.csv')"
   ]
  },
  {
   "cell_type": "code",
   "execution_count": null,
   "metadata": {},
   "outputs": [],
   "source": []
  }
 ],
 "metadata": {
  "kernelspec": {
   "display_name": "Python 3",
   "language": "python",
   "name": "python3"
  },
  "language_info": {
   "codemirror_mode": {
    "name": "ipython",
    "version": 3
   },
   "file_extension": ".py",
   "mimetype": "text/x-python",
   "name": "python",
   "nbconvert_exporter": "python",
   "pygments_lexer": "ipython3",
   "version": "3.6.5"
  }
 },
 "nbformat": 4,
 "nbformat_minor": 2
}
