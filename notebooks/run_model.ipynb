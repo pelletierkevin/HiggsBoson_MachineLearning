{
 "cells": [
  {
   "cell_type": "code",
   "execution_count": 1,
   "metadata": {
    "scrolled": false
   },
   "outputs": [],
   "source": [
    "import sys\n",
    "sys.path.append(\"../\") # go to parent dir\n",
    "\n",
    "import matplotlib.pyplot as plt\n",
    "import numpy as np\n",
    "from toolbox.proj1_helpers import load_csv_data, predict_labels, create_csv_submission\n",
    "from toolbox.implement import ridge_regression\n",
    "from toolbox.cross_validation import standardize\n",
    "from toolbox.clean_data import split_data_jetnum, extract_wrong_values, create_training_DERmass, create_correction_model, prepare_correct_values, compute_correct_values, replace_correct_values\n",
    "from toolbox.build_polynomial import build_poly\n",
    "\n",
    "%load_ext autoreload\n",
    "%autoreload 2"
   ]
  },
  {
   "cell_type": "code",
   "execution_count": 2,
   "metadata": {},
   "outputs": [],
   "source": [
    "DATA_TRAIN_PATH = '../data/train.csv'\n",
    "y, tX, ids = load_csv_data(DATA_TRAIN_PATH)"
   ]
  },
  {
   "cell_type": "markdown",
   "metadata": {},
   "source": [
    "From the training set : We want to extract and correct wrong values (-999.000) in columns. For this we'll then extract the\n",
    "<\n",
    "Out : Datajet0 corrected, Datajet1 corrected, Datajet2 corrected ==> Datasets we will use to train the global model for each datajet. \n",
    "Out : weights_jet0, weights_jet1, weights_jet2 in order to compute and correct the wrong values in the test set\n",
    "Out : mean_jet0 std_jet0, mean_jet1, std_jet1, mean_jet2, std_jet2 (For both tX and Y): used to compute the standardized version of tX and Y in test set to correct values."
   ]
  },
  {
   "cell_type": "code",
   "execution_count": 3,
   "metadata": {},
   "outputs": [
    {
     "name": "stdout",
     "output_type": "stream",
     "text": [
      "(99913, 18)\n"
     ]
    }
   ],
   "source": [
    "datajet0, datajet1, datajet2,datajet3, ind_jet0, ind_jet1, ind_jet2, ind_jet3 = split_data_jetnum(tX)\n",
    "print(datajet0.shape)"
   ]
  },
  {
   "cell_type": "markdown",
   "metadata": {},
   "source": [
    "__Train Values to correct DER_mass_MMC__"
   ]
  },
  {
   "cell_type": "code",
   "execution_count": 4,
   "metadata": {},
   "outputs": [],
   "source": [
    "#### ---- DER_mass_MMC wrong values : Training a model to predict correct values of ind_DER_mass_MMC\n",
    "\n",
    "# Extract/Split values of each dataset, to get Input data and Output data (DEr_mass_MMC) \n",
    "rightjet0, wrongjet0, ind_rightjet0, ind_wrongjet0 = extract_wrong_values(datajet0)\n",
    "rightjet1, wrongjet1, ind_rightjet1, ind_wrongjet1 = extract_wrong_values(datajet1)\n",
    "rightjet2, wrongjet2, ind_rightjet2, ind_wrongjet2 = extract_wrong_values(datajet2)\n",
    "rightjet3, wrongjet3, ind_rightjet3, ind_wrongjet3 = extract_wrong_values(datajet3)\n",
    "\n",
    "tx_rightjet0, y_rightjet0 = create_training_DERmass(rightjet0)\n",
    "tx_rightjet1, y_rightjet1 = create_training_DERmass(rightjet1)\n",
    "tx_rightjet2, y_rightjet2 = create_training_DERmass(rightjet2)\n",
    "tx_rightjet3, y_rightjet3 = create_training_DERmass(rightjet3)\n",
    "\n",
    "# Train the models for correct values of DER_mass_MMC\n",
    "wMASS_jet0, mean_txMASSjet0, std_txMASSjet0, mean_yMASSjet0, std_yMASSjet0 = create_correction_model(tx_rightjet0, y_rightjet0, degree = 2, crossterm=False, lambda_ = 0.00001)\n",
    "wMASS_jet1, mean_txMASSjet1, std_txMASSjet1, mean_yMASSjet1, std_yMASSjet1 = create_correction_model(tx_rightjet1, y_rightjet1, degree = 1, crossterm=False, lambda_ = 0.00001)\n",
    "wMASS_jet2, mean_txMASSjet2, std_txMASSjet2, mean_yMASSjet2, std_yMASSjet2 = create_correction_model(tx_rightjet2, y_rightjet2, degree = 1, crossterm=False, lambda_ = 0.00001)\n",
    "wMASS_jet3, mean_txMASSjet3, std_txMASSjet3, mean_yMASSjet3, std_yMASSjet3 = create_correction_model(tx_rightjet3, y_rightjet3, degree = 1, crossterm=False, lambda_ = 0.00001)\n",
    "\n",
    "# Prepare the wrong values to correct them\n",
    "tx_wrongjet0_poly = prepare_correct_values(wrongjet0, mean_txMASSjet0, std_txMASSjet0, degree = 2, crossterm=False, lambda_ = 0.00001)\n",
    "tx_wrongjet1_poly = prepare_correct_values(wrongjet1, mean_txMASSjet1, std_txMASSjet1, degree = 1, crossterm=False, lambda_ = 0.00001)\n",
    "tx_wrongjet2_poly = prepare_correct_values(wrongjet2, mean_txMASSjet2, std_txMASSjet2, degree = 1, crossterm=False, lambda_ = 0.00001)\n",
    "tx_wrongjet3_poly = prepare_correct_values(wrongjet3, mean_txMASSjet3, std_txMASSjet3, degree = 1, crossterm=False, lambda_ = 0.00001)\n",
    "\n",
    "# Apply the ML prediction to get the \"correct\" values for each row\n",
    "y_predMASS_jet0 = compute_correct_values(tx_wrongjet0_poly, wMASS_jet0, mean_yMASSjet0, std_yMASSjet0)\n",
    "y_predMASS_jet1 = compute_correct_values(tx_wrongjet1_poly, wMASS_jet1, mean_yMASSjet1, std_yMASSjet1)\n",
    "y_predMASS_jet2 = compute_correct_values(tx_wrongjet2_poly, wMASS_jet2, mean_yMASSjet2, std_yMASSjet2)\n",
    "y_predMASS_jet3 = compute_correct_values(tx_wrongjet3_poly, wMASS_jet3, mean_yMASSjet3, std_yMASSjet3)\n",
    "\n",
    "# Replace wrong values of DER_mass_MMC with newly computed correct values\n",
    "datajet0 = replace_correct_values(y_predMASS_jet0, wrongjet0, datajet0, ind_wrongjet0)\n",
    "datajet1 = replace_correct_values(y_predMASS_jet1, wrongjet1, datajet1, ind_wrongjet1)\n",
    "datajet2 = replace_correct_values(y_predMASS_jet2, wrongjet2, datajet2, ind_wrongjet2)\n",
    "datajet3 = replace_correct_values(y_predMASS_jet3, wrongjet3, datajet3, ind_wrongjet3)"
   ]
  },
  {
   "cell_type": "markdown",
   "metadata": {},
   "source": [
    "Model to correct value of DER_mass_MMC is now trained (from training set).\n",
    "\n",
    "We will now correct the value using this trained model for the test dataset."
   ]
  },
  {
   "cell_type": "code",
   "execution_count": 5,
   "metadata": {},
   "outputs": [],
   "source": [
    "DATA_TEST_PATH = '../data/test.csv'\n",
    "y_test, tX_test, ids_test = load_csv_data(DATA_TEST_PATH)"
   ]
  },
  {
   "cell_type": "markdown",
   "metadata": {},
   "source": [
    "We will extract data with -999.000 values from the data test set to correct them."
   ]
  },
  {
   "cell_type": "markdown",
   "metadata": {},
   "source": [
    "The data test set is loaded. We will now extract and correct the wrong values using the previous trained model to correct values."
   ]
  },
  {
   "cell_type": "code",
   "execution_count": 6,
   "metadata": {},
   "outputs": [],
   "source": [
    "datatest_jet0, datatest_jet1, datatest_jet2,datatest_jet3, indtest_jet0, indtest_jet1, indtest_jet2, indtest_jet3 = split_data_jetnum(tX_test)"
   ]
  },
  {
   "cell_type": "markdown",
   "metadata": {},
   "source": [
    "__Correct Test Data DER_mass_MMC__"
   ]
  },
  {
   "cell_type": "code",
   "execution_count": 7,
   "metadata": {},
   "outputs": [],
   "source": [
    "_, wrongtest_jet0, _, indtest_wrongjet0 = extract_wrong_values(datatest_jet0)\n",
    "_, wrongtest_jet1, _, indtest_wrongjet1 = extract_wrong_values(datatest_jet1)\n",
    "_, wrongtest_jet2, _, indtest_wrongjet2 = extract_wrong_values(datatest_jet2)\n",
    "_, wrongtest_jet3, _, indtest_wrongjet3 = extract_wrong_values(datatest_jet3)"
   ]
  },
  {
   "cell_type": "code",
   "execution_count": 8,
   "metadata": {},
   "outputs": [],
   "source": [
    "txtest_wrongjet0_poly = prepare_correct_values(wrongtest_jet0, mean_txMASSjet0, std_txMASSjet0, degree = 2, crossterm=False, lambda_ = 0.00001)\n",
    "txtest_wrongjet1_poly = prepare_correct_values(wrongtest_jet1, mean_txMASSjet1, std_txMASSjet1, degree = 1, crossterm=False, lambda_ = 0.00001)\n",
    "txtest_wrongjet2_poly = prepare_correct_values(wrongtest_jet2, mean_txMASSjet2, std_txMASSjet2, degree = 1, crossterm=False, lambda_ = 0.00001)\n",
    "txtest_wrongjet3_poly = prepare_correct_values(wrongtest_jet3, mean_txMASSjet3, std_txMASSjet3, degree = 1, crossterm=False, lambda_ = 0.00001)\n",
    "\n",
    "MASSpred_test_jet0 = compute_correct_values(txtest_wrongjet0_poly, wMASS_jet0, mean_yMASSjet0, std_yMASSjet0)\n",
    "MASSpred_test_jet1 = compute_correct_values(txtest_wrongjet1_poly, wMASS_jet1, mean_yMASSjet1, std_yMASSjet1)\n",
    "MASSpred_test_jet2 = compute_correct_values(txtest_wrongjet2_poly, wMASS_jet2, mean_yMASSjet2, std_yMASSjet2)\n",
    "MASSpred_test_jet3 = compute_correct_values(txtest_wrongjet3_poly, wMASS_jet3, mean_yMASSjet3, std_yMASSjet3)\n",
    "\n",
    "datatest_jet0 = replace_correct_values(MASSpred_test_jet0, wrongtest_jet0, datatest_jet0, indtest_wrongjet0)\n",
    "datatest_jet1 = replace_correct_values(MASSpred_test_jet1, wrongtest_jet1, datatest_jet1, indtest_wrongjet1)\n",
    "datatest_jet2 = replace_correct_values(MASSpred_test_jet2, wrongtest_jet2, datatest_jet2, indtest_wrongjet2)\n",
    "datatest_jet3 = replace_correct_values(MASSpred_test_jet3, wrongtest_jet3, datatest_jet3, indtest_wrongjet3)"
   ]
  },
  {
   "cell_type": "markdown",
   "metadata": {},
   "source": [
    "__Data Test wrong values are now Corrected__"
   ]
  },
  {
   "cell_type": "markdown",
   "metadata": {},
   "source": [
    "Now we will train the global model for the higgs boson prediction using the corrected train dataset."
   ]
  },
  {
   "cell_type": "markdown",
   "metadata": {},
   "source": [
    "Back to the training set :"
   ]
  },
  {
   "cell_type": "code",
   "execution_count": 9,
   "metadata": {},
   "outputs": [],
   "source": [
    "# Associate each y to the corresponding value of jet num\n",
    "y_jet0 = y[ind_jet0]\n",
    "y_jet1 = y[ind_jet1]\n",
    "y_jet2 = y[ind_jet2]\n",
    "y_jet3 = y[ind_jet3]"
   ]
  },
  {
   "cell_type": "markdown",
   "metadata": {},
   "source": [
    "TO IMPROVE ------------------------------ \n",
    "The global model is trained only here. We can do a specific observation"
   ]
  },
  {
   "cell_type": "code",
   "execution_count": 16,
   "metadata": {},
   "outputs": [
    {
     "name": "stdout",
     "output_type": "stream",
     "text": [
      "datajet0.shape:  (99913, 18)\n",
      "datajet0_poly.shape:  (99913, 419) \n",
      "\n",
      "datajet1.shape:  (99913, 18)\n",
      "datajet1_poly.shape:  (99913, 419) \n",
      "\n",
      "datajet2.shape:  (99913, 18)\n",
      "datajet2_poly.shape:  (99913, 419) \n",
      "\n",
      "datajet3.shape:  (99913, 18)\n",
      "datajet3_poly.shape:  (99913, 419) \n",
      "\n",
      "0.23032084469152925\n",
      "0.29813303011872216\n",
      "0.26303540810636455\n",
      "0.27127701006358473\n"
     ]
    }
   ],
   "source": [
    "### Data augmentation\n",
    "\n",
    "print('datajet0.shape: ',datajet0.shape)\n",
    "datajet0_poly = build_poly(datajet0, 8, True, True,True)\n",
    "datajet0_poly,mean_txj0,std_txj0 = standardize(datajet0_poly)\n",
    "datajet0_poly[:,0] = np.ones(len(datajet0_poly)) ####### ADD to FUNCTION\n",
    "print('datajet0_poly.shape: ',datajet0_poly.shape,'\\n')\n",
    "\n",
    "print('datajet1.shape: ',datajet0.shape)\n",
    "datajet1_poly = build_poly(datajet1, 9, True, True,True)\n",
    "datajet1_poly,mean_txj1,std_txj1 = standardize(datajet1_poly)\n",
    "datajet1_poly[:,0] = np.ones(len(datajet1_poly)) ####### ADD to FUNCTION\n",
    "print('datajet1_poly.shape: ',datajet0_poly.shape,'\\n')\n",
    "\n",
    "print('datajet2.shape: ',datajet0.shape)\n",
    "datajet2_poly = build_poly(datajet2, 9, True, True,True)\n",
    "datajet2_poly,mean_txj2,std_txj2 = standardize(datajet2_poly)\n",
    "datajet2_poly[:,0] = np.ones(len(datajet2_poly)) ####### ADD to FUNCTION\n",
    "print('datajet2_poly.shape: ',datajet0_poly.shape,'\\n')\n",
    "\n",
    "print('datajet3.shape: ',datajet0.shape)\n",
    "datajet3_poly = build_poly(datajet3, 9, True, True,True)\n",
    "datajet3_poly,mean_txj3,std_txj3 = standardize(datajet3_poly)\n",
    "datajet3_poly[:,0] = np.ones(len(datajet3_poly)) ####### ADD to FUNCTION\n",
    "print('datajet3_poly.shape: ',datajet0_poly.shape,'\\n')\n",
    "\n",
    "###\n",
    "\n",
    "loss_j0, w_pred_jet0 = ridge_regression(y_jet0, datajet0_poly, 0.0001)\n",
    "print(loss_j0)\n",
    "\n",
    "loss_j1, w_pred_jet1 = ridge_regression(y_jet1, datajet1_poly, 0.0001)\n",
    "print(loss_j1)\n",
    "\n",
    "loss_j2, w_pred_jet2 = ridge_regression(y_jet2, datajet2_poly, 0.0001)\n",
    "print(loss_j2)\n",
    "\n",
    "loss_j3, w_pred_jet3 = ridge_regression(y_jet3, datajet3_poly, 0.0001)\n",
    "print(loss_j3)"
   ]
  },
  {
   "cell_type": "markdown",
   "metadata": {},
   "source": [
    "__The Models are now trained from the training set__"
   ]
  },
  {
   "cell_type": "markdown",
   "metadata": {},
   "source": [
    "> Now we will compute the predictions from the corrected test set"
   ]
  },
  {
   "cell_type": "code",
   "execution_count": 17,
   "metadata": {
    "scrolled": false
   },
   "outputs": [],
   "source": [
    "datatestjet0_poly = build_poly(datatest_jet0, 8, True, True,True)\n",
    "datatestjet0_poly,_,_ = standardize(datatestjet0_poly,mean_txj0,std_txj0)\n",
    "datatestjet0_poly[:,0] = np.ones(len(datatestjet0_poly)) ####### ADD to FUNCTION\n",
    "\n",
    "datatestjet1_poly = build_poly(datatest_jet1, 9, True, True,True)\n",
    "datatestjet1_poly,_,_ = standardize(datatestjet1_poly,mean_txj1, std_txj1)\n",
    "datatestjet1_poly[:,0] = np.ones(len(datatestjet1_poly)) ####### ADD to FUNCTION\n",
    "\n",
    "datatestjet2_poly = build_poly(datatest_jet2, 9, True, True,True)\n",
    "datatestjet2_poly,_,_ = standardize(datatestjet2_poly, mean_txj2, std_txj2)\n",
    "datatestjet2_poly[:,0] = np.ones(len(datatestjet2_poly)) ####### ADD to FUNCTION\n",
    "\n",
    "datatestjet3_poly = build_poly(datatest_jet3, 9, True, True,True)\n",
    "datatestjet3_poly,_,_ = standardize(datatestjet3_poly, mean_txj3, std_txj3)\n",
    "datatestjet3_poly[:,0] = np.ones(len(datatestjet3_poly)) ####### ADD to FUNCTION\n",
    "\n",
    "\n",
    "ytest_predj0 = predict_labels(w_pred_jet0, datatestjet0_poly)\n",
    "\n",
    "ytest_predj1 = predict_labels(w_pred_jet1, datatestjet1_poly)\n",
    "\n",
    "ytest_predj2 = predict_labels(w_pred_jet2, datatestjet2_poly)\n",
    "\n",
    "ytest_predj3 = predict_labels(w_pred_jet3, datatestjet3_poly)\n"
   ]
  },
  {
   "cell_type": "markdown",
   "metadata": {},
   "source": [
    "We have the predictions for each jetnum dataset. \n",
    "\n",
    "Now we will reinsert them using indices to have a global y prediction on all the test set."
   ]
  },
  {
   "cell_type": "code",
   "execution_count": 18,
   "metadata": {},
   "outputs": [],
   "source": [
    "y_result = np.ones(tX_test.shape[0])*2\n",
    "\n",
    "y_result[indtest_jet0] = ytest_predj0\n",
    "y_result[indtest_jet1] = ytest_predj1\n",
    "y_result[indtest_jet2] = ytest_predj2\n",
    "y_result[indtest_jet3] = ytest_predj3"
   ]
  },
  {
   "cell_type": "code",
   "execution_count": 19,
   "metadata": {},
   "outputs": [
    {
     "data": {
      "text/plain": [
       "array([-1., -1., -1., ...,  1., -1., -1.])"
      ]
     },
     "execution_count": 19,
     "metadata": {},
     "output_type": "execute_result"
    }
   ],
   "source": [
    "y_result"
   ]
  },
  {
   "cell_type": "code",
   "execution_count": 20,
   "metadata": {},
   "outputs": [],
   "source": [
    "create_csv_submission(ids_test, y_result, '../submission/submission_y_predict.csv')"
   ]
  }
 ],
 "metadata": {
  "kernelspec": {
   "display_name": "Python 3",
   "language": "python",
   "name": "python3"
  },
  "language_info": {
   "codemirror_mode": {
    "name": "ipython",
    "version": 3
   },
   "file_extension": ".py",
   "mimetype": "text/x-python",
   "name": "python",
   "nbconvert_exporter": "python",
   "pygments_lexer": "ipython3",
   "version": "3.6.5"
  }
 },
 "nbformat": 4,
 "nbformat_minor": 2
}
